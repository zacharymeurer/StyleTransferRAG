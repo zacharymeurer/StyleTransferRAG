{
 "cells": [
  {
   "cell_type": "code",
   "execution_count": 1,
   "id": "171f2779-c895-4528-bf81-5b10e4d06184",
   "metadata": {},
   "outputs": [
    {
     "name": "stdout",
     "output_type": "stream",
     "text": [
      "collections=[]\n"
     ]
    }
   ],
   "source": [
    "from qdrant_client import QdrantClient\n",
    "\n",
    "qdrant_client = QdrantClient(\n",
    "    url=\"https://91237092-a624-4e77-b79e-ea5796828738.us-east4-0.gcp.cloud.qdrant.io:6333\", \n",
    "    api_key=\"6fr33Joo1ZTwrDgoPIIjWvo5dNvUfeMNfjCj79sbIx3Aq5gSJ7952g\",\n",
    ")\n",
    "\n",
    "print(qdrant_client.get_collections())"
   ]
  },
  {
   "cell_type": "code",
   "execution_count": 7,
   "id": "fc0a6ef3-16dd-4dd0-8991-0abe7881ca7e",
   "metadata": {
    "scrolled": true
   },
   "outputs": [],
   "source": [
    "import os\n",
    "\n",
    "base_directory = \"../comic_series\"\n",
    "comic_series = os.listdir(base_directory)"
   ]
  },
  {
   "cell_type": "code",
   "execution_count": 8,
   "id": "02f3f229-f238-485e-b35e-f7efc99cacd2",
   "metadata": {},
   "outputs": [],
   "source": [
    "series_to_image= []\n",
    "for series in comic_series:\n",
    "    if series == \".DS_Store\":\n",
    "        continue\n",
    "    series_path = os.path.join(base_directory, series)\n",
    "    series_images = os.listdir(series_path)\n",
    "    for image in series_images:\n",
    "        if image == \".DS_Store\":\n",
    "            continue\n",
    "        image_path = os.path.join(base_directory, series, image)\n",
    "        series_to_image.append((series, image_path))"
   ]
  },
  {
   "cell_type": "code",
   "execution_count": 9,
   "id": "151c6c4c-1395-416f-9bd9-ccbe42338386",
   "metadata": {},
   "outputs": [],
   "source": [
    "from pandas import DataFrame\n",
    "from PIL import Image\n",
    "\n",
    "payloads = DataFrame.from_records(series_to_image, columns=[\"series\", \"image\"])\n"
   ]
  },
  {
   "cell_type": "code",
   "execution_count": 12,
   "id": "adcd4765-6d53-4fe5-9c2b-60cf3f4ba231",
   "metadata": {},
   "outputs": [],
   "source": [
    "images = [Image.open(image) for image in payloads[\"image\"]]"
   ]
  },
  {
   "cell_type": "code",
   "execution_count": 10,
   "id": "3c7e31e8-1b76-4772-959e-b30284209a4e",
   "metadata": {},
   "outputs": [],
   "source": [
    "from io import BytesIO\n",
    "import math\n",
    "import base64\n",
    "\n",
    "def convert_image_to_base64(image_path):\n",
    "    pil_image = Image.open(image_path)\n",
    "    image_data = BytesIO()\n",
    "    pil_image.save(image_data, format=\"JPEG\")\n",
    "    base64_string = base64.b64encode(image_data.getvalue()).decode(\"utf-8\")\n",
    "    return base64_string\n",
    "\n",
    "base64_strings = [convert_image_to_base64(image_path) for image_path in payloads[\"image\"]]\n",
    "payloads[\"base64\"] = base64_strings"
   ]
  },
  {
   "cell_type": "code",
   "execution_count": null,
   "id": "74f35691-898a-4215-9a5a-a887377e5623",
   "metadata": {},
   "outputs": [],
   "source": [
    "from transformers import AutoImageProcessor, ResNetForImageClassification\n",
    "\n",
    "processor = AutoImageProcessor.from_pretrained(\"microsoft/resnet-50\")\n",
    "model = ResNetForImageClassification.from_pretrained(\"microsoft/resnet-50\")\n",
    "\n",
    "inputs = processor(images, return_tensors=\"pt\")\n",
    "outputs = model(**inputs)\n",
    "embeddings = outputs.logits"
   ]
  },
  {
   "cell_type": "code",
   "execution_count": null,
   "id": "ab6fc42c-2990-4440-aa11-2e9c0a00c5d7",
   "metadata": {},
   "outputs": [],
   "source": [
    "embeddings.shape # 14.408 mb"
   ]
  }
 ],
 "metadata": {
  "kernelspec": {
   "display_name": "Python [conda env:dsml]",
   "language": "python",
   "name": "conda-env-dsml-py"
  },
  "language_info": {
   "codemirror_mode": {
    "name": "ipython",
    "version": 3
   },
   "file_extension": ".py",
   "mimetype": "text/x-python",
   "name": "python",
   "nbconvert_exporter": "python",
   "pygments_lexer": "ipython3",
   "version": "3.11.5"
  }
 },
 "nbformat": 4,
 "nbformat_minor": 5
}
